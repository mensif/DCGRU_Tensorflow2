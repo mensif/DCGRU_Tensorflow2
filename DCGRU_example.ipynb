{
  "nbformat": 4,
  "nbformat_minor": 0,
  "metadata": {
    "colab": {
      "name": "DCGRU_example.ipynb",
      "provenance": [],
      "collapsed_sections": []
    },
    "kernelspec": {
      "name": "python3",
      "display_name": "Python 3"
    }
  },
  "cells": [
    {
      "cell_type": "code",
      "metadata": {
        "id": "F2mVdX5d5xGo",
        "colab_type": "code",
        "colab": {
          "base_uri": "https://localhost:8080/",
          "height": 153
        },
        "outputId": "a59b5be4-b74d-4b03-f40c-a8389e933eff"
      },
      "source": [
        "!unzip DCGRU_github.zip"
      ],
      "execution_count": 1,
      "outputs": [
        {
          "output_type": "stream",
          "text": [
            "Archive:  DCGRU_github.zip\n",
            "  inflating: dcgru_cell_tf2.py       \n",
            "   creating: lib/\n",
            "  inflating: lib/matrix_calc.py      \n",
            "   creating: synth_signal/\n",
            "  inflating: synth_signal/gen_signal.py  \n",
            "  inflating: synth_signal/road_network.py  \n",
            "  inflating: signal.pickle           \n"
          ],
          "name": "stdout"
        }
      ]
    },
    {
      "cell_type": "markdown",
      "metadata": {
        "id": "ctOD3pK-7NvE",
        "colab_type": "text"
      },
      "source": [
        "# Import libraries"
      ]
    },
    {
      "cell_type": "code",
      "metadata": {
        "id": "epKMcPh19JBx",
        "colab_type": "code",
        "colab": {}
      },
      "source": [
        "import numpy as np\n",
        "import networkx as nx\n",
        "import tensorflow as tf\n",
        "from tensorflow import keras\n",
        "from tensorflow.python.keras import backend as K\n",
        "import matplotlib.pyplot as plt\n",
        "import pickle\n",
        "\n",
        "from synth_signal.gen_signal import generate_signal\n",
        "from dcgru_cell_tf2 import DCGRUCell"
      ],
      "execution_count": 2,
      "outputs": []
    },
    {
      "cell_type": "markdown",
      "metadata": {
        "id": "lnyTJ1Xq6rDV",
        "colab_type": "text"
      },
      "source": [
        "# Load signal and adjacency matrix"
      ]
    },
    {
      "cell_type": "code",
      "metadata": {
        "id": "n1wHIxlF6t8o",
        "colab_type": "code",
        "colab": {}
      },
      "source": [
        "signal = pickle.load(open('signal.pickle','rb'))\n",
        "G_adj_mx = pickle.load(open('G_adj_mx.pickle','rb'))\n",
        "num_nodes = G_adj_mx.shape[0]"
      ],
      "execution_count": 7,
      "outputs": []
    },
    {
      "cell_type": "markdown",
      "metadata": {
        "id": "ulAFKp0-7JR_",
        "colab_type": "text"
      },
      "source": [
        "# How to build a DCGRU layer"
      ]
    },
    {
      "cell_type": "code",
      "metadata": {
        "id": "EBuPXDTf7f5D",
        "colab_type": "code",
        "colab": {}
      },
      "source": [
        "# define the dcgru cell\n",
        "dcgru_cell = DCGRUCell(units=20,adj_mx=G_adj_mx, K_diffusion=2,\n",
        "                       num_nodes=num_nodes,filter_type=\"random_walk\")"
      ],
      "execution_count": 14,
      "outputs": []
    },
    {
      "cell_type": "markdown",
      "metadata": {
        "id": "WZlGsjTF_pkT",
        "colab_type": "text"
      },
      "source": [
        "The state size of the dcgru cell is a vector of dimension (units * num_nodes). In the example we have units = 20 and num_nodes = 24, hence the state size will be 20*24 = 480"
      ]
    },
    {
      "cell_type": "code",
      "metadata": {
        "id": "iH76iw6583jz",
        "colab_type": "code",
        "colab": {}
      },
      "source": [
        "# wrap the dcgru cell in a keras RNN layer\n",
        "Dcgru_layer = keras.layers.RNN(dcgru_cell)"
      ],
      "execution_count": 15,
      "outputs": []
    },
    {
      "cell_type": "markdown",
      "metadata": {
        "id": "pppY7RMl9NbH",
        "colab_type": "text"
      },
      "source": [
        "# Example of a sequential model"
      ]
    },
    {
      "cell_type": "code",
      "metadata": {
        "id": "u5u8heKZ85pU",
        "colab_type": "code",
        "colab": {}
      },
      "source": [
        "model_dcgru = keras.models.Sequential([\n",
        "  keras.Input(shape=(None, num_nodes, 1)),  # Input dimensions: sequence length (None := arbitrary length)\n",
        "  Dcgru_layer,                              #                   number of nodes in the graph\n",
        "  keras.layers.Dense(num_nodes)             #                   signal dimensionality (1 in the example)\n",
        "  ])"
      ],
      "execution_count": 16,
      "outputs": []
    },
    {
      "cell_type": "code",
      "metadata": {
        "id": "B9wvDmab87qU",
        "colab_type": "code",
        "colab": {
          "base_uri": "https://localhost:8080/",
          "height": 221
        },
        "outputId": "83808933-825e-4622-fad1-bc21daa7f28b"
      },
      "source": [
        "model_dcgru.summary()"
      ],
      "execution_count": 17,
      "outputs": [
        {
          "output_type": "stream",
          "text": [
            "Model: \"sequential\"\n",
            "_________________________________________________________________\n",
            "Layer (type)                 Output Shape              Param #   \n",
            "=================================================================\n",
            "rnn_1 (RNN)                  (None, 480)               3840      \n",
            "_________________________________________________________________\n",
            "dense (Dense)                (None, 24)                11544     \n",
            "=================================================================\n",
            "Total params: 15,384\n",
            "Trainable params: 15,384\n",
            "Non-trainable params: 0\n",
            "_________________________________________________________________\n"
          ],
          "name": "stdout"
        }
      ]
    },
    {
      "cell_type": "markdown",
      "metadata": {
        "id": "nH3f-Rkq9-t1",
        "colab_type": "text"
      },
      "source": [
        "## Data format"
      ]
    },
    {
      "cell_type": "code",
      "metadata": {
        "id": "2dW_CVVu9irW",
        "colab_type": "code",
        "colab": {}
      },
      "source": [
        "# create X, y from signal\n",
        "seq_len = 8\n",
        "horizon = 4\n",
        "X = []\n",
        "y = []\n",
        "\n",
        "for i in range(100,len(signal)-(seq_len+horizon)):\n",
        "  X.append(signal[i:i+seq_len])\n",
        "  y.append(signal[i+seq_len+horizon])\n",
        "X = np.expand_dims(np.array(X), -1)   # expand dimensionality to match the correct input shape\n",
        "y = np.array(y)"
      ],
      "execution_count": 19,
      "outputs": []
    },
    {
      "cell_type": "code",
      "metadata": {
        "id": "00-snk5ZCIya",
        "colab_type": "code",
        "colab": {
          "base_uri": "https://localhost:8080/",
          "height": 102
        },
        "outputId": "fb57684f-f3b2-46b5-c87b-25082dad4911"
      },
      "source": [
        "print(X.shape)\n",
        "print(X.shape[0], \": number of input sequences\")\n",
        "print(X.shape[1], \": sequence length\")\n",
        "print(X.shape[2], \": number of nodhs\")\n",
        "print(X.shape[3], \": signal dimensionality\")"
      ],
      "execution_count": 22,
      "outputs": [
        {
          "output_type": "stream",
          "text": [
            "(1888, 8, 24, 1)\n",
            "1888 : number of input sequences\n",
            "8 : sequence length\n",
            "24 : number of nodhs\n",
            "1 : signal dimensionality\n"
          ],
          "name": "stdout"
        }
      ]
    },
    {
      "cell_type": "code",
      "metadata": {
        "id": "_TQoTD4jDahQ",
        "colab_type": "code",
        "colab": {
          "base_uri": "https://localhost:8080/",
          "height": 34
        },
        "outputId": "9dae6b3e-21e9-47c3-cb5f-d6a40a09e752"
      },
      "source": [
        "print(y.shape)"
      ],
      "execution_count": 24,
      "outputs": [
        {
          "output_type": "stream",
          "text": [
            "(1888, 24)\n"
          ],
          "name": "stdout"
        }
      ]
    },
    {
      "cell_type": "markdown",
      "metadata": {
        "id": "daQrHrfQC2YJ",
        "colab_type": "text"
      },
      "source": [
        "## Model training"
      ]
    },
    {
      "cell_type": "code",
      "metadata": {
        "id": "gYZIZF2DB4il",
        "colab_type": "code",
        "colab": {
          "base_uri": "https://localhost:8080/",
          "height": 374
        },
        "outputId": "706ac4fc-117d-4876-be8b-68de08e1706f"
      },
      "source": [
        "opt = keras.optimizers.Adam(learning_rate=0.001, clipnorm=1.0)\n",
        "model_dcgru.compile(loss=\"mse\", optimizer=opt)\n",
        "model_dcgru.fit(X, y, epochs=10, verbose=1)"
      ],
      "execution_count": 23,
      "outputs": [
        {
          "output_type": "stream",
          "text": [
            "Epoch 1/10\n",
            "59/59 [==============================] - 2s 29ms/step - loss: 0.1051\n",
            "Epoch 2/10\n",
            "59/59 [==============================] - 2s 29ms/step - loss: 0.0121\n",
            "Epoch 3/10\n",
            "59/59 [==============================] - 2s 30ms/step - loss: 0.0094\n",
            "Epoch 4/10\n",
            "59/59 [==============================] - 2s 29ms/step - loss: 0.0073\n",
            "Epoch 5/10\n",
            "59/59 [==============================] - 2s 29ms/step - loss: 0.0058\n",
            "Epoch 6/10\n",
            "59/59 [==============================] - 2s 29ms/step - loss: 0.0050\n",
            "Epoch 7/10\n",
            "59/59 [==============================] - 2s 29ms/step - loss: 0.0047\n",
            "Epoch 8/10\n",
            "59/59 [==============================] - 2s 29ms/step - loss: 0.0046\n",
            "Epoch 9/10\n",
            "59/59 [==============================] - 2s 29ms/step - loss: 0.0045\n",
            "Epoch 10/10\n",
            "59/59 [==============================] - 2s 29ms/step - loss: 0.0044\n"
          ],
          "name": "stdout"
        },
        {
          "output_type": "execute_result",
          "data": {
            "text/plain": [
              "<tensorflow.python.keras.callbacks.History at 0x7fad70c78860>"
            ]
          },
          "metadata": {
            "tags": []
          },
          "execution_count": 23
        }
      ]
    }
  ]
}